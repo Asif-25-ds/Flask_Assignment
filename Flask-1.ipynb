{
 "cells": [
  {
   "cell_type": "code",
   "execution_count": 1,
   "metadata": {},
   "outputs": [],
   "source": [
    "# Answer of Qeus-1\n",
    "# Flask is like a toolbox that provides us basics for building web applications in python.\n",
    "# With flask we can define routes(URLs) for functions that should be executed when we hit those URLs.\n",
    "# Advantages:\n",
    "# (1)Flask uses the Jinja2 templating engine, which provides a powerful and flexible way to generate HTML content.\n",
    "# (2)Flask follows a RESTful routing pattern, allowing developers to define routes and handle HTTP methods in a clean way. \n",
    "# This makes it easy to build RESTful APIs using Flask."
   ]
  },
  {
   "cell_type": "code",
   "execution_count": 2,
   "metadata": {},
   "outputs": [
    {
     "name": "stdout",
     "output_type": "stream",
     "text": [
      " * Serving Flask app '__main__'\n",
      " * Debug mode: off\n"
     ]
    },
    {
     "name": "stderr",
     "output_type": "stream",
     "text": [
      "WARNING: This is a development server. Do not use it in a production deployment. Use a production WSGI server instead.\n",
      " * Running on all addresses (0.0.0.0)\n",
      " * Running on http://127.0.0.1:5000\n",
      " * Running on http://192.168.173.132:5000\n",
      "Press CTRL+C to quit\n",
      "127.0.0.1 - - [04/Mar/2024 12:00:47] \"GET / HTTP/1.1\" 200 -\n",
      "127.0.0.1 - - [04/Mar/2024 12:00:47] \"GET /favicon.ico HTTP/1.1\" 404 -\n"
     ]
    }
   ],
   "source": [
    "# Answer of Qeus-2\n",
    "from flask import Flask\n",
    "app=Flask(__name__)\n",
    "\n",
    "@app.route(\"/\")\n",
    "def hello():\n",
    "    return \"<h1>Hello World!!</h1>\"\n",
    "if __name__==\"__main__\":\n",
    "    app.run(host=\"0.0.0.0\")\n"
   ]
  },
  {
   "cell_type": "markdown",
   "metadata": {},
   "source": [
    "![Screenshot (72).png](<attachment:Screenshot (72).png>)"
   ]
  },
  {
   "cell_type": "code",
   "execution_count": 5,
   "metadata": {},
   "outputs": [],
   "source": [
    "# Answer of Ques-3\n",
    "# In Flask, app routing refers to the process of mapping URLs (Uniform Resource Locators) to specific functions in your application.\n",
    "# This mapping is achieved using the @app.route() decorator, and it defines how different parts of your web application respond to\n",
    "# various HTTP requests.\n",
    "# Why use app routing?\n",
    "# App routes provide a clean and organized way to map URLs to specific functionalities in our application.\n",
    "# For web applications following the RESTful design principles, app routes help to define endpoints for different resources\n",
    "# and HTTP methods, making it easy to build RESTful APIs."
   ]
  },
  {
   "cell_type": "code",
   "execution_count": 10,
   "metadata": {},
   "outputs": [
    {
     "name": "stdout",
     "output_type": "stream",
     "text": [
      " * Serving Flask app '__main__'\n",
      " * Debug mode: off\n"
     ]
    },
    {
     "name": "stderr",
     "output_type": "stream",
     "text": [
      "WARNING: This is a development server. Do not use it in a production deployment. Use a production WSGI server instead.\n",
      " * Running on all addresses (0.0.0.0)\n",
      " * Running on http://127.0.0.1:5000\n",
      " * Running on http://192.168.173.132:5000\n",
      "Press CTRL+C to quit\n"
     ]
    },
    {
     "name": "stderr",
     "output_type": "stream",
     "text": [
      "192.168.173.132 - - [04/Mar/2024 12:24:56] \"GET / HTTP/1.1\" 200 -\n"
     ]
    }
   ],
   "source": [
    "# Answer of Ques-4\n",
    "from flask import Flask\n",
    "app=Flask(__name__)\n",
    "@app.route(\"/welcom\")\n",
    "def welcom():\n",
    "    return \"<h1><center>Welcom to ABC corporation</center></h1>\"\n",
    "\n",
    "@app.route(\"/\")\n",
    "def corporation_details():\n",
    "    details=\"<h2>Company Name: ABC Corporation<br>Location: India<br>Contact Detail: 999-999-9999</h2>\"\n",
    "    return details\n",
    "\n",
    "if __name__==\"__main__\":\n",
    "    app.run(host=\"0.0.0.0\")"
   ]
  },
  {
   "cell_type": "markdown",
   "metadata": {},
   "source": [
    "![Screenshot (73).png](<attachment:Screenshot (73).png>)"
   ]
  },
  {
   "cell_type": "markdown",
   "metadata": {},
   "source": [
    "![Screenshot (74).png](<attachment:Screenshot (74).png>)"
   ]
  },
  {
   "cell_type": "code",
   "execution_count": 15,
   "metadata": {},
   "outputs": [
    {
     "name": "stdout",
     "output_type": "stream",
     "text": [
      "greeting url:/greet\n",
      "intro_url:/introduce\n",
      " * Serving Flask app '__main__'\n",
      " * Debug mode: off\n"
     ]
    },
    {
     "name": "stderr",
     "output_type": "stream",
     "text": [
      "WARNING: This is a development server. Do not use it in a production deployment. Use a production WSGI server instead.\n",
      " * Running on all addresses (0.0.0.0)\n",
      " * Running on http://127.0.0.1:5000\n",
      " * Running on http://192.168.173.132:5000\n",
      "Press CTRL+C to quit\n"
     ]
    },
    {
     "name": "stderr",
     "output_type": "stream",
     "text": [
      "127.0.0.1 - - [04/Mar/2024 12:49:34] \"GET / HTTP/1.1\" 404 -\n",
      "127.0.0.1 - - [04/Mar/2024 12:49:42] \"GET /introduce HTTP/1.1\" 200 -\n",
      "127.0.0.1 - - [04/Mar/2024 12:49:51] \"GET /greet HTTP/1.1\" 200 -\n"
     ]
    }
   ],
   "source": [
    "# Answer of ques-5\n",
    "# In Flask, the url_for function is used for URL building. The url_for function generates a URL for a given function based on its name.\n",
    "# This is particularly useful because it allows you to create URLs dynamically and helps avoid hardcoding URLs \n",
    "# in your templates or code.\n",
    "#code\n",
    "from flask import Flask,url_for\n",
    "app=Flask(__name__)\n",
    "\n",
    "@app.route(\"/greet\")\n",
    "def greetings():\n",
    "    return\"<h1>Good Afternoon!</h1>\"\n",
    "\n",
    "@app.route(\"/introduce\")\n",
    "def intro():\n",
    "    return \"<h>I am learning Data Science.What about you?</h>\"\n",
    "\n",
    "if __name__==\"__main__\":\n",
    "    with app.test_request_context():\n",
    "        greet=url_for('greetings')\n",
    "        intro_URL=url_for('intro')\n",
    "        print(f\"greeting url:{greet}\")\n",
    "        print(f\"intro_url:{intro_URL}\")\n",
    "    app.run(host=\"0.0.0.0\")\n",
    "    "
   ]
  },
  {
   "cell_type": "markdown",
   "metadata": {},
   "source": [
    "![Screenshot (75).png](<attachment:Screenshot (75).png>)"
   ]
  },
  {
   "cell_type": "markdown",
   "metadata": {},
   "source": [
    "![Screenshot (76).png](<attachment:Screenshot (76).png>)"
   ]
  }
 ],
 "metadata": {
  "kernelspec": {
   "display_name": "Python 3",
   "language": "python",
   "name": "python3"
  },
  "language_info": {
   "codemirror_mode": {
    "name": "ipython",
    "version": 3
   },
   "file_extension": ".py",
   "mimetype": "text/x-python",
   "name": "python",
   "nbconvert_exporter": "python",
   "pygments_lexer": "ipython3",
   "version": "3.11.8"
  }
 },
 "nbformat": 4,
 "nbformat_minor": 2
}
